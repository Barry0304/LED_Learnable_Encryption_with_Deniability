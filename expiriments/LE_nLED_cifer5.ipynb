{
 "cells": [
  {
   "cell_type": "code",
   "execution_count": 1,
   "id": "4bbeac85",
   "metadata": {},
   "outputs": [],
   "source": [
    "import numpy as np\n",
    "import pandas as pd\n",
    "import tensorflow as tf\n",
    "import matplotlib.pyplot as plt\n",
    "from IPython.display import display, Image\n",
    "import pickle"
   ]
  },
  {
   "cell_type": "code",
   "execution_count": 2,
   "id": "9ab84736",
   "metadata": {},
   "outputs": [],
   "source": [
    "path = 'results/LE_nLED_cifer5/'"
   ]
  },
  {
   "cell_type": "markdown",
   "id": "d0b19e7b",
   "metadata": {},
   "source": [
    "## load data"
   ]
  },
  {
   "cell_type": "code",
   "execution_count": 3,
   "id": "c18e4a03",
   "metadata": {},
   "outputs": [],
   "source": [
    "(X_train, Y_train), (X_test, Y_test) = tf.keras.datasets.cifar10.load_data()"
   ]
  },
  {
   "cell_type": "code",
   "execution_count": 4,
   "id": "8a735927",
   "metadata": {},
   "outputs": [
    {
     "name": "stdout",
     "output_type": "stream",
     "text": [
      "50000\n",
      "10000\n",
      "(50000, 32, 32, 3)\n"
     ]
    }
   ],
   "source": [
    "print(len(X_train))\n",
    "print(len(X_test))\n",
    "print(X_train.shape)"
   ]
  },
  {
   "cell_type": "code",
   "execution_count": 5,
   "id": "cfacd7ea",
   "metadata": {
    "scrolled": true
   },
   "outputs": [
    {
     "data": {
      "image/png": "[encoded data removed]",
      "text/plain": [
       "<Figure size 432x288 with 1 Axes>"
      ]
     },
     "metadata": {
      "needs_background": "light"
     },
     "output_type": "display_data"
    }
   ],
   "source": [
    "imgplot = plt.imshow(X_train[2])\n",
    "plt.show()"
   ]
  },
  {
   "cell_type": "markdown",
   "id": "417a48ec",
   "metadata": {},
   "source": [
    "## preprocessing/F.E."
   ]
  },
  {
   "cell_type": "markdown",
   "id": "5e3d2e39",
   "metadata": {},
   "source": [
    "## set parameter"
   ]
  },
  {
   "cell_type": "markdown",
   "id": "3c369aec",
   "metadata": {},
   "source": [
    "# imageshuffle"
   ]
  },
  {
   "cell_type": "code",
   "execution_count": 6,
   "id": "95534cc3",
   "metadata": {},
   "outputs": [],
   "source": [
    "train_data = pd.DataFrame({'x':[*X_train],'y':[*Y_train]})\n",
    "test_data = pd.DataFrame({'x':[*X_test],'y':[*Y_test]})\n",
    "train_data = train_data.loc[train_data['y']<5].reset_index(drop=True)\n",
    "test_data = test_data.loc[test_data['y']<5].reset_index(drop=True)\n",
    "data = [train_data,test_data]"
   ]
  },
  {
   "cell_type": "code",
   "execution_count": 7,
   "id": "c08f1007",
   "metadata": {},
   "outputs": [],
   "source": [
    "for d in data:\n",
    "    d['nor_x'] = d['x'].apply(lambda x:x/255)\n",
    "    d['cate_y']=[*tf.keras.utils.to_categorical(d['y'])]"
   ]
  },
  {
   "cell_type": "code",
   "execution_count": 8,
   "id": "4b9513e0",
   "metadata": {},
   "outputs": [],
   "source": [
    "from moudule.BlockScramble import BlockScramble"
   ]
  },
  {
   "cell_type": "code",
   "execution_count": 9,
   "id": "57515c92",
   "metadata": {},
   "outputs": [],
   "source": [
    "bs = BlockScramble([4, 4, 3])\n",
    "bs.save(path+'key/key.pkl')\n",
    "for d in data:\n",
    "    d['bs_x'] = [*bs.Scramble(np.array(list(d['nor_x'])))]\n",
    "    d['bs_d'] = [*bs.Decramble(np.array(list(d['bs_x'])))]"
   ]
  },
  {
   "cell_type": "code",
   "execution_count": 10,
   "id": "27e97035",
   "metadata": {
    "scrolled": true
   },
   "outputs": [
    {
     "data": {
      "text/html": [
       "<div>\n",
       "<style scoped>\n",
       "    .dataframe tbody tr th:only-of-type {\n",
       "        vertical-align: middle;\n",
       "    }\n",
       "\n",
       "    .dataframe tbody tr th {\n",
       "        vertical-align: top;\n",
       "    }\n",
       "\n",
       "    .dataframe thead th {\n",
       "        text-align: right;\n",
       "    }\n",
       "</style>\n",
       "<table border=\"1\" class=\"dataframe\">\n",
       "  <thead>\n",
       "    <tr style=\"text-align: right;\">\n",
       "      <th></th>\n",
       "      <th>index</th>\n",
       "      <th>x</th>\n",
       "      <th>y</th>\n",
       "      <th>nor_x</th>\n",
       "      <th>cate_y</th>\n",
       "      <th>bs_x</th>\n",
       "      <th>bs_d</th>\n",
       "    </tr>\n",
       "  </thead>\n",
       "  <tbody>\n",
       "    <tr>\n",
       "      <th>0</th>\n",
       "      <td>3</td>\n",
       "      <td>[[[28, 25, 10], [37, 34, 19], [38, 35, 20], [4...</td>\n",
       "      <td>[4]</td>\n",
       "      <td>[[[0.10980392156862745, 0.09803921568627451, 0...</td>\n",
       "      <td>[0.0, 0.0, 0.0, 0.0, 1.0]</td>\n",
       "      <td>[[[0.93333334, 0.88235295, 0.49019608], [0.803...</td>\n",
       "      <td>[[[0.10980392, 0.09803922, 0.039215688], [0.14...</td>\n",
       "    </tr>\n",
       "    <tr>\n",
       "      <th>1</th>\n",
       "      <td>4</td>\n",
       "      <td>[[[170, 180, 198], [168, 178, 196], [177, 185,...</td>\n",
       "      <td>[1]</td>\n",
       "      <td>[[[0.6666666666666666, 0.7058823529411765, 0.7...</td>\n",
       "      <td>[0.0, 1.0, 0.0, 0.0, 0.0]</td>\n",
       "      <td>[[[0.6039216, 0.29411766, 0.5764706], [0.34901...</td>\n",
       "      <td>[[[0.6666667, 0.7058824, 0.7764706], [0.658823...</td>\n",
       "    </tr>\n",
       "    <tr>\n",
       "      <th>2</th>\n",
       "      <td>5</td>\n",
       "      <td>[[[159, 102, 101], [150, 91, 95], [153, 95, 97...</td>\n",
       "      <td>[1]</td>\n",
       "      <td>[[[0.6235294117647059, 0.4, 0.396078431372549]...</td>\n",
       "      <td>[0.0, 1.0, 0.0, 0.0, 0.0]</td>\n",
       "      <td>[[[0.14509805, 0.7058824, 0.3019608], [0.70980...</td>\n",
       "      <td>[[[0.62352943, 0.4, 0.39607844], [0.5882353, 0...</td>\n",
       "    </tr>\n",
       "    <tr>\n",
       "      <th>3</th>\n",
       "      <td>6</td>\n",
       "      <td>[[[164, 206, 84], [105, 140, 61], [118, 148, 1...</td>\n",
       "      <td>[2]</td>\n",
       "      <td>[[[0.6431372549019608, 0.807843137254902, 0.32...</td>\n",
       "      <td>[0.0, 0.0, 1.0, 0.0, 0.0]</td>\n",
       "      <td>[[[0.11764706, 0.16470589, 0.73333335], [0.321...</td>\n",
       "      <td>[[[0.6431373, 0.80784315, 0.32941177], [0.4117...</td>\n",
       "    </tr>\n",
       "    <tr>\n",
       "      <th>4</th>\n",
       "      <td>9</td>\n",
       "      <td>[[[125, 125, 116], [110, 101, 91], [102, 90, 8...</td>\n",
       "      <td>[3]</td>\n",
       "      <td>[[[0.49019607843137253, 0.49019607843137253, 0...</td>\n",
       "      <td>[0.0, 0.0, 0.0, 1.0, 0.0]</td>\n",
       "      <td>[[[0.7411765, 0.4117647, 0.1764706], [0.129411...</td>\n",
       "      <td>[[[0.49019608, 0.49019608, 0.45490196], [0.431...</td>\n",
       "    </tr>\n",
       "    <tr>\n",
       "      <th>...</th>\n",
       "      <td>...</td>\n",
       "      <td>...</td>\n",
       "      <td>...</td>\n",
       "      <td>...</td>\n",
       "      <td>...</td>\n",
       "      <td>...</td>\n",
       "      <td>...</td>\n",
       "    </tr>\n",
       "    <tr>\n",
       "      <th>24995</th>\n",
       "      <td>49993</td>\n",
       "      <td>[[[226, 214, 177], [225, 212, 177], [225, 207,...</td>\n",
       "      <td>[1]</td>\n",
       "      <td>[[[0.8862745098039215, 0.8392156862745098, 0.6...</td>\n",
       "      <td>[0.0, 1.0, 0.0, 0.0, 0.0]</td>\n",
       "      <td>[[[0.2627451, 0.29411766, 0.5529412], [0.90196...</td>\n",
       "      <td>[[[0.8862745, 0.8392157, 0.69411767], [0.88235...</td>\n",
       "    </tr>\n",
       "    <tr>\n",
       "      <th>24996</th>\n",
       "      <td>49994</td>\n",
       "      <td>[[[156, 159, 164], [155, 158, 163], [156, 159,...</td>\n",
       "      <td>[0]</td>\n",
       "      <td>[[[0.611764705882353, 0.6235294117647059, 0.64...</td>\n",
       "      <td>[1.0, 0.0, 0.0, 0.0, 0.0]</td>\n",
       "      <td>[[[0.3137255, 0.3529412, 0.32156864], [0.09803...</td>\n",
       "      <td>[[[0.6117647, 0.62352943, 0.6431373], [0.60784...</td>\n",
       "    </tr>\n",
       "    <tr>\n",
       "      <th>24997</th>\n",
       "      <td>49995</td>\n",
       "      <td>[[[145, 161, 194], [151, 166, 199], [156, 171,...</td>\n",
       "      <td>[2]</td>\n",
       "      <td>[[[0.5686274509803921, 0.6313725490196078, 0.7...</td>\n",
       "      <td>[0.0, 0.0, 1.0, 0.0, 0.0]</td>\n",
       "      <td>[[[0.81960785, 0.3529412, 0.13725491], [0.5882...</td>\n",
       "      <td>[[[0.5686275, 0.6313726, 0.7607843], [0.592156...</td>\n",
       "    </tr>\n",
       "    <tr>\n",
       "      <th>24998</th>\n",
       "      <td>49998</td>\n",
       "      <td>[[[189, 211, 240], [186, 208, 236], [185, 207,...</td>\n",
       "      <td>[1]</td>\n",
       "      <td>[[[0.7411764705882353, 0.8274509803921568, 0.9...</td>\n",
       "      <td>[0.0, 1.0, 0.0, 0.0, 0.0]</td>\n",
       "      <td>[[[0.78039217, 0.17254902, 0.3764706], [0.1411...</td>\n",
       "      <td>[[[0.7411765, 0.827451, 0.9411765], [0.7294118...</td>\n",
       "    </tr>\n",
       "    <tr>\n",
       "      <th>24999</th>\n",
       "      <td>49999</td>\n",
       "      <td>[[[229, 229, 239], [236, 237, 247], [234, 236,...</td>\n",
       "      <td>[1]</td>\n",
       "      <td>[[[0.8980392156862745, 0.8980392156862745, 0.9...</td>\n",
       "      <td>[0.0, 1.0, 0.0, 0.0, 0.0]</td>\n",
       "      <td>[[[0.5921569, 0.18039216, 0.8156863], [0.85098...</td>\n",
       "      <td>[[[0.8980392, 0.8980392, 0.9372549], [0.925490...</td>\n",
       "    </tr>\n",
       "  </tbody>\n",
       "</table>\n",
       "<p>25000 rows × 7 columns</p>\n",
       "</div>"
      ],
      "text/plain": [
       "       index                                                  x    y  \\\n",
       "0          3  [[[28, 25, 10], [37, 34, 19], [38, 35, 20], [4...  [4]   \n",
       "1          4  [[[170, 180, 198], [168, 178, 196], [177, 185,...  [1]   \n",
       "2          5  [[[159, 102, 101], [150, 91, 95], [153, 95, 97...  [1]   \n",
       "3          6  [[[164, 206, 84], [105, 140, 61], [118, 148, 1...  [2]   \n",
       "4          9  [[[125, 125, 116], [110, 101, 91], [102, 90, 8...  [3]   \n",
       "...      ...                                                ...  ...   \n",
       "24995  49993  [[[226, 214, 177], [225, 212, 177], [225, 207,...  [1]   \n",
       "24996  49994  [[[156, 159, 164], [155, 158, 163], [156, 159,...  [0]   \n",
       "24997  49995  [[[145, 161, 194], [151, 166, 199], [156, 171,...  [2]   \n",
       "24998  49998  [[[189, 211, 240], [186, 208, 236], [185, 207,...  [1]   \n",
       "24999  49999  [[[229, 229, 239], [236, 237, 247], [234, 236,...  [1]   \n",
       "\n",
       "                                                   nor_x  \\\n",
       "0      [[[0.10980392156862745, 0.09803921568627451, 0...   \n",
       "1      [[[0.6666666666666666, 0.7058823529411765, 0.7...   \n",
       "2      [[[0.6235294117647059, 0.4, 0.396078431372549]...   \n",
       "3      [[[0.6431372549019608, 0.807843137254902, 0.32...   \n",
       "4      [[[0.49019607843137253, 0.49019607843137253, 0...   \n",
       "...                                                  ...   \n",
       "24995  [[[0.8862745098039215, 0.8392156862745098, 0.6...   \n",
       "24996  [[[0.611764705882353, 0.6235294117647059, 0.64...   \n",
       "24997  [[[0.5686274509803921, 0.6313725490196078, 0.7...   \n",
       "24998  [[[0.7411764705882353, 0.8274509803921568, 0.9...   \n",
       "24999  [[[0.8980392156862745, 0.8980392156862745, 0.9...   \n",
       "\n",
       "                          cate_y  \\\n",
       "0      [0.0, 0.0, 0.0, 0.0, 1.0]   \n",
       "1      [0.0, 1.0, 0.0, 0.0, 0.0]   \n",
       "2      [0.0, 1.0, 0.0, 0.0, 0.0]   \n",
       "3      [0.0, 0.0, 1.0, 0.0, 0.0]   \n",
       "4      [0.0, 0.0, 0.0, 1.0, 0.0]   \n",
       "...                          ...   \n",
       "24995  [0.0, 1.0, 0.0, 0.0, 0.0]   \n",
       "24996  [1.0, 0.0, 0.0, 0.0, 0.0]   \n",
       "24997  [0.0, 0.0, 1.0, 0.0, 0.0]   \n",
       "24998  [0.0, 1.0, 0.0, 0.0, 0.0]   \n",
       "24999  [0.0, 1.0, 0.0, 0.0, 0.0]   \n",
       "\n",
       "                                                    bs_x  \\\n",
       "0      [[[0.93333334, 0.88235295, 0.49019608], [0.803...   \n",
       "1      [[[0.6039216, 0.29411766, 0.5764706], [0.34901...   \n",
       "2      [[[0.14509805, 0.7058824, 0.3019608], [0.70980...   \n",
       "3      [[[0.11764706, 0.16470589, 0.73333335], [0.321...   \n",
       "4      [[[0.7411765, 0.4117647, 0.1764706], [0.129411...   \n",
       "...                                                  ...   \n",
       "24995  [[[0.2627451, 0.29411766, 0.5529412], [0.90196...   \n",
       "24996  [[[0.3137255, 0.3529412, 0.32156864], [0.09803...   \n",
       "24997  [[[0.81960785, 0.3529412, 0.13725491], [0.5882...   \n",
       "24998  [[[0.78039217, 0.17254902, 0.3764706], [0.1411...   \n",
       "24999  [[[0.5921569, 0.18039216, 0.8156863], [0.85098...   \n",
       "\n",
       "                                                    bs_d  \n",
       "0      [[[0.10980392, 0.09803922, 0.039215688], [0.14...  \n",
       "1      [[[0.6666667, 0.7058824, 0.7764706], [0.658823...  \n",
       "2      [[[0.62352943, 0.4, 0.39607844], [0.5882353, 0...  \n",
       "3      [[[0.6431373, 0.80784315, 0.32941177], [0.4117...  \n",
       "4      [[[0.49019608, 0.49019608, 0.45490196], [0.431...  \n",
       "...                                                  ...  \n",
       "24995  [[[0.8862745, 0.8392157, 0.69411767], [0.88235...  \n",
       "24996  [[[0.6117647, 0.62352943, 0.6431373], [0.60784...  \n",
       "24997  [[[0.5686275, 0.6313726, 0.7607843], [0.592156...  \n",
       "24998  [[[0.7411765, 0.827451, 0.9411765], [0.7294118...  \n",
       "24999  [[[0.8980392, 0.8980392, 0.9372549], [0.925490...  \n",
       "\n",
       "[25000 rows x 7 columns]"
      ]
     },
     "execution_count": 10,
     "metadata": {},
     "output_type": "execute_result"
    }
   ],
   "source": [
    "data[0]"
   ]
  },
  {
   "cell_type": "code",
   "execution_count": 11,
   "id": "a7fcff97",
   "metadata": {
    "scrolled": true
   },
   "outputs": [
    {
     "data": {
      "image/png": "[encoded data removed]",
      "text/plain": [
       "<Figure size 432x288 with 1 Axes>"
      ]
     },
     "metadata": {
      "needs_background": "light"
     },
     "output_type": "display_data"
    },
    {
     "data": {
      "image/png": "[encoded data removed]",
      "text/plain": [
       "<Figure size 432x288 with 1 Axes>"
      ]
     },
     "metadata": {
      "needs_background": "light"
     },
     "output_type": "display_data"
    },
    {
     "data": {
      "image/png": "[encoded data removed]",
      "text/plain": [
       "<Figure size 432x288 with 1 Axes>"
      ]
     },
     "metadata": {
      "needs_background": "light"
     },
     "output_type": "display_data"
    },
    {
     "data": {
      "image/png": "[encoded data removed]",
      "text/plain": [
       "<Figure size 432x288 with 1 Axes>"
      ]
     },
     "metadata": {
      "needs_background": "light"
     },
     "output_type": "display_data"
    },
    {
     "data": {
      "image/png": "[encoded data removed]",
      "text/plain": [
       "<Figure size 432x288 with 1 Axes>"
      ]
     },
     "metadata": {
      "needs_background": "light"
     },
     "output_type": "display_data"
    },
    {
     "data": {
      "image/png": "[encoded data removed]",
      "text/plain": [
       "<Figure size 432x288 with 1 Axes>"
      ]
     },
     "metadata": {
      "needs_background": "light"
     },
     "output_type": "display_data"
    }
   ],
   "source": [
    "i = 2\n",
    "for d in data:\n",
    "    plt.imshow(d['x'][i])\n",
    "    plt.show()\n",
    "    plt.imshow(d['bs_x'][i])\n",
    "    plt.show()\n",
    "    plt.imshow(d['bs_d'][i])\n",
    "    plt.show()"
   ]
  },
  {
   "cell_type": "code",
   "execution_count": 12,
   "id": "c23ca4bb",
   "metadata": {},
   "outputs": [],
   "source": [
    "data[0]['train_x'] = data[0]['bs_x']\n",
    "data[0]['train_y'] = data[0]['cate_y']\n",
    "data[1]['test_x'] = data[1]['bs_x']\n",
    "data[1]['test_y'] = data[1]['cate_y']"
   ]
  },
  {
   "cell_type": "code",
   "execution_count": 13,
   "id": "8c86f7eb",
   "metadata": {},
   "outputs": [],
   "source": [
    "train_x =np.array([[*a]for a in data[0]['train_x']])\n",
    "train_y =np.array([[*a]for a in data[0]['train_y']])\n",
    "test_x =np.array([[*a]for a in data[1]['test_x']])\n",
    "test_y =np.array([[*a]for a in data[1]['test_y']])"
   ]
  },
  {
   "cell_type": "markdown",
   "id": "fde7019d",
   "metadata": {},
   "source": [
    "## Training"
   ]
  },
  {
   "cell_type": "code",
   "execution_count": 14,
   "id": "5ba3aaec",
   "metadata": {},
   "outputs": [],
   "source": [
    "from tensorflow.keras.models import Sequential\n",
    "from tensorflow.keras.layers import Dense, Dropout, Activation, Flatten, Conv2D, Input,\\\n",
    "                                    Lambda,MaxPooling2D, GlobalAveragePooling2D,\\\n",
    "                                    Add, Concatenate,BatchNormalization\n",
    "from tensorflow.keras.models import Model\n",
    "\n",
    "from moudule.padding import PaddingReplicate2D\n",
    "from moudule.pixelshuffle import PixelShuffle\n",
    "from moudule.pixelshuffle import PixelShuffle_calc, PixelShuffle_shape\n",
    "\n",
    "from keras.metrics import categorical_accuracy\n",
    "from tensorflow.keras.callbacks import CSVLogger"
   ]
  },
  {
   "cell_type": "code",
   "execution_count": 15,
   "id": "8538705f",
   "metadata": {},
   "outputs": [],
   "source": [
    "def resnet1(input_shape, nb_classes=10):\n",
    "    p1 = PaddingReplicate2D((1,1))\n",
    "    inp = Input(shape=input_shape)\n",
    "    x = inp\n",
    "\n",
    "    # block0 ####################################################\n",
    "    x = BatchNormalization() (x)\n",
    "    x = Conv2D( 4*4*3, (4,4), padding='valid', strides=(4,4), kernel_initializer='he_normal' ) (x)\n",
    "    x = Activation('relu') (x)\n",
    "    # 8x8x48\n",
    "    \n",
    "    x = BatchNormalization() (x)\n",
    "    x = Conv2D( 4*4*3, (1,1), padding='valid', kernel_initializer='he_normal' ) (x)\n",
    "    x = Activation('relu') (x)\n",
    "    # 8x8x48\n",
    "\n",
    "    x = BatchNormalization() (x)\n",
    "    x = Conv2D( 4*4*3, (1,1), padding='valid', kernel_initializer='he_normal' ) (x)\n",
    "    x = Activation('relu') (x)\n",
    "    # 8x8x48\n",
    "\n",
    "    x = BatchNormalization() (x)\n",
    "    x = Conv2D( 4*4*32, (1,1), padding='valid', kernel_initializer='he_normal' ) (x)\n",
    "    x = PixelShuffle( x, 4 )\n",
    "#     x = Conv2D(32, (1,1), padding='valid', kernel_initializer='he_normal' ) (x)\n",
    "    # 32x32x32\n",
    "    \n",
    "    # block1 ####################################################\n",
    "    f = 32\n",
    "    fs = 16\n",
    "    for i in range(2):\n",
    "        f0 = f\n",
    "        f = f+fs\n",
    "        r = x[:]\n",
    "        r = BatchNormalization() (r)\n",
    "        r = Activation('relu') (r)\n",
    "        r = Conv2D( f, (3,3), padding='valid', kernel_initializer='he_normal' ) (p1(r))\n",
    "\n",
    "        r = BatchNormalization() (r)\n",
    "        r = Activation('relu') (r)\n",
    "        r = Conv2D( f, (3,3), padding='valid', kernel_initializer='he_normal' ) (p1(r))\n",
    "        \n",
    "        r = Dropout(0.25) (r)\n",
    "        # r0 = Lambda(lambda x: x[:,:,:,:f0], lambda s: (s[0], s[1], s[2], f0)) (r)\n",
    "        # r1 = Lambda(lambda x: x[:,:,:,f0:], lambda s: (s[0], s[1], s[2], fs) ) (r)\n",
    "        r0 = r[:,:,:,:f0]\n",
    "        r1 = r[:,:,:,f0:]\n",
    "\n",
    "        x = Add() ([x,r0])\n",
    "        x = Concatenate(axis=-1) ([x,r1])\n",
    "    # 32x32x64\n",
    "    \n",
    "    x = MaxPooling2D(pool_size=(2, 2)) (x)\n",
    "    # 16x16x64\n",
    "    # block2 ####################################################\n",
    "    f = 64\n",
    "    fs = 32\n",
    "    for i in range(2):\n",
    "        f0 = f\n",
    "        f = f+fs\n",
    "        r = x\n",
    "\n",
    "        r = BatchNormalization() (r)\n",
    "        r = Activation('relu') (r)\n",
    "        r = Conv2D( f, (3,3), padding='valid', kernel_initializer='he_normal' ) (p1(r))\n",
    "\n",
    "        r = BatchNormalization() (r)\n",
    "        r = Activation('relu') (r)\n",
    "        r = Conv2D( f, (3,3), padding='valid', kernel_initializer='he_normal' ) (p1(r))\n",
    "\n",
    "        r = Dropout(0.25) (r)\n",
    "\n",
    "        # r0 = Lambda(lambda x: x[:,:,:,:f0], lambda s: (s[0], s[1], s[2], f0) ) (r)\n",
    "        # r1 = Lambda(lambda x: x[:,:,:,f0:], lambda s: (s[0], s[1], s[2], fs) ) (r)\n",
    "\n",
    "        r0 = r[:,:,:,:f0]\n",
    "        r1 = r[:,:,:,f0:]\n",
    "        x = Add() ( [x,r0] )\n",
    "        x = Concatenate(axis=-1) ([x,r1])\n",
    "\n",
    "        f0 = f\n",
    "    # 16x16x128\n",
    "\n",
    "    x = MaxPooling2D(pool_size=(2, 2)) (x)\n",
    "    # 8x8x128\n",
    "\n",
    "    # block3 ####################################################\n",
    "    f = 128\n",
    "    fs = 64\n",
    "    for i in range(2):\n",
    "        f0 = f\n",
    "        f = f+fs\n",
    "        r = x\n",
    "\n",
    "        r = BatchNormalization() (r)\n",
    "        r = Activation('relu') (r)\n",
    "        r = Conv2D( f, (3,3), padding='valid', kernel_initializer='he_normal' ) (p1(r))\n",
    "\n",
    "        r = BatchNormalization() (r)\n",
    "        r = Activation('relu') (r)\n",
    "        r = Conv2D( f, (3,3), padding='valid', kernel_initializer='he_normal' ) (p1(r))\n",
    "\n",
    "        r = Dropout(0.25) (r)\n",
    "\n",
    "        # r0 = Lambda(lambda x: x[:,:,:,:f0], lambda s: (s[0], s[1], s[2], f0) ) (r)\n",
    "        # r1 = Lambda(lambda x: x[:,:,:,f0:], lambda s: (s[0], s[1], s[2], fs) ) (r)\n",
    "\n",
    "        r0 = r[:,:,:,:f0]\n",
    "        r1 = r[:,:,:,f0:]\n",
    "        x = Add() ( [x,r0] )\n",
    "        x = Concatenate(axis=-1) ([x,r1])\n",
    "\n",
    "        f0 = f\n",
    "    # 8x8x256\n",
    "\n",
    "    x = MaxPooling2D(pool_size=(2, 2)) (x)\n",
    "    # 4x4x256\n",
    "\n",
    "    # block4 ####################################################\n",
    "    x = Dropout(0.5) (x)\n",
    "    x = Conv2D( 512, (1,1), padding='valid', kernel_initializer='he_normal', activation='relu' ) (x)\n",
    "\n",
    "    x = Dropout(0.5) (x)\n",
    "    x = Conv2D( nb_classes, (1,1), padding='valid', kernel_initializer='he_normal' ) (x)\n",
    "    x = GlobalAveragePooling2D() (x)\n",
    "    x = Activation('softmax') (x)\n",
    "\n",
    "    return Model(inputs=inp, outputs=x)"
   ]
  },
  {
   "cell_type": "code",
   "execution_count": 16,
   "id": "fbcc55ff",
   "metadata": {},
   "outputs": [
    {
     "name": "stdout",
     "output_type": "stream",
     "text": [
      "Model: \"model\"\n",
      "__________________________________________________________________________________________________\n",
      " Layer (type)                   Output Shape         Param #     Connected to                     \n",
      "==================================================================================================\n",
      " input_1 (InputLayer)           [(None, 32, 32, 3)]  0           []                               \n",
      "                                                                                                  \n",
      " batch_normalization (BatchNorm  (None, 32, 32, 3)   12          ['input_1[0][0]']                \n",
      " alization)                                                                                       \n",
      "                                                                                                  \n",
      " conv2d (Conv2D)                (None, 8, 8, 48)     2352        ['batch_normalization[0][0]']    \n",
      "                                                                                                  \n",
      " activation (Activation)        (None, 8, 8, 48)     0           ['conv2d[0][0]']                 \n",
      "                                                                                                  \n",
      " batch_normalization_1 (BatchNo  (None, 8, 8, 48)    192         ['activation[0][0]']             \n",
      " rmalization)                                                                                     \n",
      "                                                                                                  \n",
      " conv2d_1 (Conv2D)              (None, 8, 8, 48)     2352        ['batch_normalization_1[0][0]']  \n",
      "                                                                                                  \n",
      " activation_1 (Activation)      (None, 8, 8, 48)     0           ['conv2d_1[0][0]']               \n",
      "                                                                                                  \n",
      " batch_normalization_2 (BatchNo  (None, 8, 8, 48)    192         ['activation_1[0][0]']           \n",
      " rmalization)                                                                                     \n",
      "                                                                                                  \n",
      " conv2d_2 (Conv2D)              (None, 8, 8, 48)     2352        ['batch_normalization_2[0][0]']  \n",
      "                                                                                                  \n",
      " activation_2 (Activation)      (None, 8, 8, 48)     0           ['conv2d_2[0][0]']               \n",
      "                                                                                                  \n",
      " batch_normalization_3 (BatchNo  (None, 8, 8, 48)    192         ['activation_2[0][0]']           \n",
      " rmalization)                                                                                     \n",
      "                                                                                                  \n",
      " conv2d_3 (Conv2D)              (None, 8, 8, 512)    25088       ['batch_normalization_3[0][0]']  \n",
      "                                                                                                  \n",
      " lambda (Lambda)                (None, 32, 32, 32)   0           ['conv2d_3[0][0]']               \n",
      "                                                                                                  \n",
      " tf.__operators__.getitem (Slic  (None, 32, 32, 32)  0           ['lambda[0][0]']                 \n",
      " ingOpLambda)                                                                                     \n",
      "                                                                                                  \n",
      " batch_normalization_4 (BatchNo  (None, 32, 32, 32)  128         ['tf.__operators__.getitem[0][0]'\n",
      " rmalization)                                                    ]                                \n",
      "                                                                                                  \n",
      " activation_3 (Activation)      (None, 32, 32, 32)   0           ['batch_normalization_4[0][0]']  \n",
      "                                                                                                  \n",
      " padding_replicate2d (PaddingRe  multiple            0           ['activation_3[0][0]',           \n",
      " plicate2D)                                                       'activation_4[0][0]',           \n",
      "                                                                  'activation_5[0][0]',           \n",
      "                                                                  'activation_6[0][0]',           \n",
      "                                                                  'activation_7[0][0]',           \n",
      "                                                                  'activation_8[0][0]',           \n",
      "                                                                  'activation_9[0][0]',           \n",
      "                                                                  'activation_10[0][0]',          \n",
      "                                                                  'activation_11[0][0]',          \n",
      "                                                                  'activation_12[0][0]',          \n",
      "                                                                  'activation_13[0][0]',          \n",
      "                                                                  'activation_14[0][0]']          \n",
      "                                                                                                  \n",
      " conv2d_4 (Conv2D)              (None, 32, 32, 48)   13872       ['padding_replicate2d[0][0]']    \n",
      "                                                                                                  \n",
      " batch_normalization_5 (BatchNo  (None, 32, 32, 48)  192         ['conv2d_4[0][0]']               \n",
      " rmalization)                                                                                     \n",
      "                                                                                                  \n",
      " activation_4 (Activation)      (None, 32, 32, 48)   0           ['batch_normalization_5[0][0]']  \n",
      "                                                                                                  \n",
      " conv2d_5 (Conv2D)              (None, 32, 32, 48)   20784       ['padding_replicate2d[1][0]']    \n",
      "                                                                                                  \n",
      " dropout (Dropout)              (None, 32, 32, 48)   0           ['conv2d_5[0][0]']               \n",
      "                                                                                                  \n",
      " tf.__operators__.getitem_1 (Sl  (None, 32, 32, 32)  0           ['dropout[0][0]']                \n",
      " icingOpLambda)                                                                                   \n",
      "                                                                                                  \n",
      " add (Add)                      (None, 32, 32, 32)   0           ['lambda[0][0]',                 \n",
      "                                                                  'tf.__operators__.getitem_1[0][0\n",
      "                                                                 ]']                              \n",
      "                                                                                                  \n",
      " tf.__operators__.getitem_2 (Sl  (None, 32, 32, 16)  0           ['dropout[0][0]']                \n",
      " icingOpLambda)                                                                                   \n",
      "                                                                                                  \n",
      " concatenate (Concatenate)      (None, 32, 32, 48)   0           ['add[0][0]',                    \n",
      "                                                                  'tf.__operators__.getitem_2[0][0\n",
      "                                                                 ]']                              \n",
      "                                                                                                  \n",
      " tf.__operators__.getitem_3 (Sl  (None, 32, 32, 48)  0           ['concatenate[0][0]']            \n",
      " icingOpLambda)                                                                                   \n",
      "                                                                                                  \n",
      " batch_normalization_6 (BatchNo  (None, 32, 32, 48)  192         ['tf.__operators__.getitem_3[0][0\n"
     ]
    },
    {
     "name": "stdout",
     "output_type": "stream",
     "text": [
      " rmalization)                                                    ]']                              \n",
      "                                                                                                  \n",
      " activation_5 (Activation)      (None, 32, 32, 48)   0           ['batch_normalization_6[0][0]']  \n",
      "                                                                                                  \n",
      " conv2d_6 (Conv2D)              (None, 32, 32, 64)   27712       ['padding_replicate2d[2][0]']    \n",
      "                                                                                                  \n",
      " batch_normalization_7 (BatchNo  (None, 32, 32, 64)  256         ['conv2d_6[0][0]']               \n",
      " rmalization)                                                                                     \n",
      "                                                                                                  \n",
      " activation_6 (Activation)      (None, 32, 32, 64)   0           ['batch_normalization_7[0][0]']  \n",
      "                                                                                                  \n",
      " conv2d_7 (Conv2D)              (None, 32, 32, 64)   36928       ['padding_replicate2d[3][0]']    \n",
      "                                                                                                  \n",
      " dropout_1 (Dropout)            (None, 32, 32, 64)   0           ['conv2d_7[0][0]']               \n",
      "                                                                                                  \n",
      " tf.__operators__.getitem_4 (Sl  (None, 32, 32, 48)  0           ['dropout_1[0][0]']              \n",
      " icingOpLambda)                                                                                   \n",
      "                                                                                                  \n",
      " add_1 (Add)                    (None, 32, 32, 48)   0           ['concatenate[0][0]',            \n",
      "                                                                  'tf.__operators__.getitem_4[0][0\n",
      "                                                                 ]']                              \n",
      "                                                                                                  \n",
      " tf.__operators__.getitem_5 (Sl  (None, 32, 32, 16)  0           ['dropout_1[0][0]']              \n",
      " icingOpLambda)                                                                                   \n",
      "                                                                                                  \n",
      " concatenate_1 (Concatenate)    (None, 32, 32, 64)   0           ['add_1[0][0]',                  \n",
      "                                                                  'tf.__operators__.getitem_5[0][0\n",
      "                                                                 ]']                              \n",
      "                                                                                                  \n",
      " max_pooling2d (MaxPooling2D)   (None, 16, 16, 64)   0           ['concatenate_1[0][0]']          \n",
      "                                                                                                  \n",
      " batch_normalization_8 (BatchNo  (None, 16, 16, 64)  256         ['max_pooling2d[0][0]']          \n",
      " rmalization)                                                                                     \n",
      "                                                                                                  \n",
      " activation_7 (Activation)      (None, 16, 16, 64)   0           ['batch_normalization_8[0][0]']  \n",
      "                                                                                                  \n",
      " conv2d_8 (Conv2D)              (None, 16, 16, 96)   55392       ['padding_replicate2d[4][0]']    \n",
      "                                                                                                  \n",
      " batch_normalization_9 (BatchNo  (None, 16, 16, 96)  384         ['conv2d_8[0][0]']               \n",
      " rmalization)                                                                                     \n",
      "                                                                                                  \n",
      " activation_8 (Activation)      (None, 16, 16, 96)   0           ['batch_normalization_9[0][0]']  \n",
      "                                                                                                  \n",
      " conv2d_9 (Conv2D)              (None, 16, 16, 96)   83040       ['padding_replicate2d[5][0]']    \n",
      "                                                                                                  \n",
      " dropout_2 (Dropout)            (None, 16, 16, 96)   0           ['conv2d_9[0][0]']               \n",
      "                                                                                                  \n",
      " tf.__operators__.getitem_6 (Sl  (None, 16, 16, 64)  0           ['dropout_2[0][0]']              \n",
      " icingOpLambda)                                                                                   \n",
      "                                                                                                  \n",
      " add_2 (Add)                    (None, 16, 16, 64)   0           ['max_pooling2d[0][0]',          \n",
      "                                                                  'tf.__operators__.getitem_6[0][0\n",
      "                                                                 ]']                              \n",
      "                                                                                                  \n",
      " tf.__operators__.getitem_7 (Sl  (None, 16, 16, 32)  0           ['dropout_2[0][0]']              \n",
      " icingOpLambda)                                                                                   \n",
      "                                                                                                  \n",
      " concatenate_2 (Concatenate)    (None, 16, 16, 96)   0           ['add_2[0][0]',                  \n",
      "                                                                  'tf.__operators__.getitem_7[0][0\n",
      "                                                                 ]']                              \n",
      "                                                                                                  \n",
      " batch_normalization_10 (BatchN  (None, 16, 16, 96)  384         ['concatenate_2[0][0]']          \n",
      " ormalization)                                                                                    \n",
      "                                                                                                  \n",
      " activation_9 (Activation)      (None, 16, 16, 96)   0           ['batch_normalization_10[0][0]'] \n",
      "                                                                                                  \n",
      " conv2d_10 (Conv2D)             (None, 16, 16, 128)  110720      ['padding_replicate2d[6][0]']    \n",
      "                                                                                                  \n",
      " batch_normalization_11 (BatchN  (None, 16, 16, 128)  512        ['conv2d_10[0][0]']              \n",
      " ormalization)                                                                                    \n",
      "                                                                                                  \n",
      " activation_10 (Activation)     (None, 16, 16, 128)  0           ['batch_normalization_11[0][0]'] \n",
      "                                                                                                  \n",
      " conv2d_11 (Conv2D)             (None, 16, 16, 128)  147584      ['padding_replicate2d[7][0]']    \n",
      "                                                                                                  \n",
      " dropout_3 (Dropout)            (None, 16, 16, 128)  0           ['conv2d_11[0][0]']              \n",
      "                                                                                                  \n",
      " tf.__operators__.getitem_8 (Sl  (None, 16, 16, 96)  0           ['dropout_3[0][0]']              \n",
      " icingOpLambda)                                                                                   \n",
      "                                                                                                  \n",
      " add_3 (Add)                    (None, 16, 16, 96)   0           ['concatenate_2[0][0]',          \n",
      "                                                                  'tf.__operators__.getitem_8[0][0\n",
      "                                                                 ]']                              \n"
     ]
    },
    {
     "name": "stdout",
     "output_type": "stream",
     "text": [
      "                                                                                                  \n",
      " tf.__operators__.getitem_9 (Sl  (None, 16, 16, 32)  0           ['dropout_3[0][0]']              \n",
      " icingOpLambda)                                                                                   \n",
      "                                                                                                  \n",
      " concatenate_3 (Concatenate)    (None, 16, 16, 128)  0           ['add_3[0][0]',                  \n",
      "                                                                  'tf.__operators__.getitem_9[0][0\n",
      "                                                                 ]']                              \n",
      "                                                                                                  \n",
      " max_pooling2d_1 (MaxPooling2D)  (None, 8, 8, 128)   0           ['concatenate_3[0][0]']          \n",
      "                                                                                                  \n",
      " batch_normalization_12 (BatchN  (None, 8, 8, 128)   512         ['max_pooling2d_1[0][0]']        \n",
      " ormalization)                                                                                    \n",
      "                                                                                                  \n",
      " activation_11 (Activation)     (None, 8, 8, 128)    0           ['batch_normalization_12[0][0]'] \n",
      "                                                                                                  \n",
      " conv2d_12 (Conv2D)             (None, 8, 8, 192)    221376      ['padding_replicate2d[8][0]']    \n",
      "                                                                                                  \n",
      " batch_normalization_13 (BatchN  (None, 8, 8, 192)   768         ['conv2d_12[0][0]']              \n",
      " ormalization)                                                                                    \n",
      "                                                                                                  \n",
      " activation_12 (Activation)     (None, 8, 8, 192)    0           ['batch_normalization_13[0][0]'] \n",
      "                                                                                                  \n",
      " conv2d_13 (Conv2D)             (None, 8, 8, 192)    331968      ['padding_replicate2d[9][0]']    \n",
      "                                                                                                  \n",
      " dropout_4 (Dropout)            (None, 8, 8, 192)    0           ['conv2d_13[0][0]']              \n",
      "                                                                                                  \n",
      " tf.__operators__.getitem_10 (S  (None, 8, 8, 128)   0           ['dropout_4[0][0]']              \n",
      " licingOpLambda)                                                                                  \n",
      "                                                                                                  \n",
      " add_4 (Add)                    (None, 8, 8, 128)    0           ['max_pooling2d_1[0][0]',        \n",
      "                                                                  'tf.__operators__.getitem_10[0][\n",
      "                                                                 0]']                             \n",
      "                                                                                                  \n",
      " tf.__operators__.getitem_11 (S  (None, 8, 8, 64)    0           ['dropout_4[0][0]']              \n",
      " licingOpLambda)                                                                                  \n",
      "                                                                                                  \n",
      " concatenate_4 (Concatenate)    (None, 8, 8, 192)    0           ['add_4[0][0]',                  \n",
      "                                                                  'tf.__operators__.getitem_11[0][\n",
      "                                                                 0]']                             \n",
      "                                                                                                  \n",
      " batch_normalization_14 (BatchN  (None, 8, 8, 192)   768         ['concatenate_4[0][0]']          \n",
      " ormalization)                                                                                    \n",
      "                                                                                                  \n",
      " activation_13 (Activation)     (None, 8, 8, 192)    0           ['batch_normalization_14[0][0]'] \n",
      "                                                                                                  \n",
      " conv2d_14 (Conv2D)             (None, 8, 8, 256)    442624      ['padding_replicate2d[10][0]']   \n",
      "                                                                                                  \n",
      " batch_normalization_15 (BatchN  (None, 8, 8, 256)   1024        ['conv2d_14[0][0]']              \n",
      " ormalization)                                                                                    \n",
      "                                                                                                  \n",
      " activation_14 (Activation)     (None, 8, 8, 256)    0           ['batch_normalization_15[0][0]'] \n",
      "                                                                                                  \n",
      " conv2d_15 (Conv2D)             (None, 8, 8, 256)    590080      ['padding_replicate2d[11][0]']   \n",
      "                                                                                                  \n",
      " dropout_5 (Dropout)            (None, 8, 8, 256)    0           ['conv2d_15[0][0]']              \n",
      "                                                                                                  \n",
      " tf.__operators__.getitem_12 (S  (None, 8, 8, 192)   0           ['dropout_5[0][0]']              \n",
      " licingOpLambda)                                                                                  \n",
      "                                                                                                  \n",
      " add_5 (Add)                    (None, 8, 8, 192)    0           ['concatenate_4[0][0]',          \n",
      "                                                                  'tf.__operators__.getitem_12[0][\n",
      "                                                                 0]']                             \n",
      "                                                                                                  \n",
      " tf.__operators__.getitem_13 (S  (None, 8, 8, 64)    0           ['dropout_5[0][0]']              \n",
      " licingOpLambda)                                                                                  \n",
      "                                                                                                  \n",
      " concatenate_5 (Concatenate)    (None, 8, 8, 256)    0           ['add_5[0][0]',                  \n",
      "                                                                  'tf.__operators__.getitem_13[0][\n",
      "                                                                 0]']                             \n",
      "                                                                                                  \n",
      " max_pooling2d_2 (MaxPooling2D)  (None, 4, 4, 256)   0           ['concatenate_5[0][0]']          \n",
      "                                                                                                  \n",
      " dropout_6 (Dropout)            (None, 4, 4, 256)    0           ['max_pooling2d_2[0][0]']        \n",
      "                                                                                                  \n",
      " conv2d_16 (Conv2D)             (None, 4, 4, 512)    131584      ['dropout_6[0][0]']              \n",
      "                                                                                                  \n",
      " dropout_7 (Dropout)            (None, 4, 4, 512)    0           ['conv2d_16[0][0]']              \n",
      "                                                                                                  \n",
      " conv2d_17 (Conv2D)             (None, 4, 4, 5)      2565        ['dropout_7[0][0]']              \n",
      "                                                                                                  \n",
      " global_average_pooling2d (Glob  (None, 5)           0           ['conv2d_17[0][0]']              \n",
      " alAveragePooling2D)                                                                              \n",
      "                                                                                                  \n"
     ]
    },
    {
     "name": "stdout",
     "output_type": "stream",
     "text": [
      " activation_15 (Activation)     (None, 5)            0           ['global_average_pooling2d[0][0]'\n",
      "                                                                 ]                                \n",
      "                                                                                                  \n",
      "==================================================================================================\n",
      "Total params: 2,254,337\n",
      "Trainable params: 2,251,355\n",
      "Non-trainable params: 2,982\n",
      "__________________________________________________________________________________________________\n"
     ]
    }
   ],
   "source": [
    "model = resnet1(input_shape=[32,32,3], nb_classes=5)\n",
    "model.compile(optimizer='adam', loss='categorical_crossentropy', metrics=['accuracy'])\n",
    "model.summary()"
   ]
  },
  {
   "cell_type": "code",
   "execution_count": 17,
   "id": "05455b53",
   "metadata": {
    "scrolled": true
   },
   "outputs": [
    {
     "name": "stdout",
     "output_type": "stream",
     "text": [
      "Epoch 1/50\n",
      "391/391 [==============================] - 66s 152ms/step - loss: 1.9179 - accuracy: 0.3430 - val_loss: 2.9570 - val_accuracy: 0.2520\n",
      "Epoch 2/50\n",
      "391/391 [==============================] - 58s 149ms/step - loss: 1.2903 - accuracy: 0.4707 - val_loss: 1.6642 - val_accuracy: 0.3038\n",
      "Epoch 3/50\n",
      "391/391 [==============================] - 59s 152ms/step - loss: 1.1264 - accuracy: 0.5373 - val_loss: 1.5201 - val_accuracy: 0.3884\n",
      "Epoch 4/50\n",
      "391/391 [==============================] - 60s 154ms/step - loss: 1.0201 - accuracy: 0.5860 - val_loss: 1.2580 - val_accuracy: 0.4690\n",
      "Epoch 5/50\n",
      "391/391 [==============================] - 61s 156ms/step - loss: 0.9401 - accuracy: 0.6178 - val_loss: 1.1482 - val_accuracy: 0.4866\n",
      "Epoch 6/50\n",
      "391/391 [==============================] - 61s 157ms/step - loss: 0.8806 - accuracy: 0.6464 - val_loss: 1.1857 - val_accuracy: 0.5052\n",
      "Epoch 7/50\n",
      "391/391 [==============================] - 62s 158ms/step - loss: 0.8238 - accuracy: 0.6696 - val_loss: 1.0478 - val_accuracy: 0.5968\n",
      "Epoch 8/50\n",
      "391/391 [==============================] - 62s 159ms/step - loss: 0.7803 - accuracy: 0.6905 - val_loss: 1.0771 - val_accuracy: 0.5938\n",
      "Epoch 9/50\n",
      "391/391 [==============================] - 63s 160ms/step - loss: 0.7212 - accuracy: 0.7156 - val_loss: 1.0989 - val_accuracy: 0.5886\n",
      "Epoch 10/50\n",
      "391/391 [==============================] - 63s 160ms/step - loss: 0.6792 - accuracy: 0.7370 - val_loss: 0.9581 - val_accuracy: 0.6094\n",
      "Epoch 11/50\n",
      "391/391 [==============================] - 62s 160ms/step - loss: 0.6330 - accuracy: 0.7508 - val_loss: 0.9379 - val_accuracy: 0.6368\n",
      "Epoch 12/50\n",
      "391/391 [==============================] - 63s 162ms/step - loss: 0.6051 - accuracy: 0.7678 - val_loss: 1.1485 - val_accuracy: 0.5588\n",
      "Epoch 13/50\n",
      "391/391 [==============================] - 63s 161ms/step - loss: 0.5652 - accuracy: 0.7856 - val_loss: 1.1359 - val_accuracy: 0.6120\n",
      "Epoch 14/50\n",
      "391/391 [==============================] - 63s 161ms/step - loss: 0.5321 - accuracy: 0.7967 - val_loss: 0.8452 - val_accuracy: 0.6688\n",
      "Epoch 15/50\n",
      "391/391 [==============================] - 64s 164ms/step - loss: 0.4967 - accuracy: 0.8125 - val_loss: 0.9016 - val_accuracy: 0.6574\n",
      "Epoch 16/50\n",
      "391/391 [==============================] - 63s 162ms/step - loss: 0.4657 - accuracy: 0.8253 - val_loss: 1.1782 - val_accuracy: 0.5740\n",
      "Epoch 17/50\n",
      "391/391 [==============================] - 64s 163ms/step - loss: 0.4399 - accuracy: 0.8348 - val_loss: 1.4426 - val_accuracy: 0.5620\n",
      "Epoch 18/50\n",
      "391/391 [==============================] - 63s 162ms/step - loss: 0.4137 - accuracy: 0.8455 - val_loss: 0.9416 - val_accuracy: 0.6548\n",
      "Epoch 19/50\n",
      "391/391 [==============================] - 63s 161ms/step - loss: 0.3858 - accuracy: 0.8585 - val_loss: 0.9113 - val_accuracy: 0.6864\n",
      "Epoch 20/50\n",
      "391/391 [==============================] - 63s 162ms/step - loss: 0.3535 - accuracy: 0.8686 - val_loss: 0.8594 - val_accuracy: 0.7000\n",
      "Epoch 21/50\n",
      "391/391 [==============================] - 64s 163ms/step - loss: 0.3360 - accuracy: 0.8742 - val_loss: 0.8760 - val_accuracy: 0.6892\n",
      "Epoch 22/50\n",
      "391/391 [==============================] - 64s 163ms/step - loss: 0.3162 - accuracy: 0.8826 - val_loss: 1.1384 - val_accuracy: 0.6624\n",
      "Epoch 23/50\n",
      "391/391 [==============================] - 64s 163ms/step - loss: 0.2928 - accuracy: 0.8904 - val_loss: 1.0960 - val_accuracy: 0.6818\n",
      "Epoch 24/50\n",
      "391/391 [==============================] - 64s 163ms/step - loss: 0.2757 - accuracy: 0.8996 - val_loss: 0.9818 - val_accuracy: 0.7100\n",
      "Epoch 25/50\n",
      "391/391 [==============================] - 64s 163ms/step - loss: 0.2557 - accuracy: 0.9066 - val_loss: 1.0226 - val_accuracy: 0.7050\n",
      "Epoch 26/50\n",
      "391/391 [==============================] - 64s 163ms/step - loss: 0.2457 - accuracy: 0.9105 - val_loss: 1.1465 - val_accuracy: 0.6878\n",
      "Epoch 27/50\n",
      "391/391 [==============================] - 64s 163ms/step - loss: 0.2253 - accuracy: 0.9188 - val_loss: 1.1783 - val_accuracy: 0.6844\n",
      "Epoch 28/50\n",
      "391/391 [==============================] - 64s 163ms/step - loss: 0.2185 - accuracy: 0.9204 - val_loss: 0.9596 - val_accuracy: 0.7354\n",
      "Epoch 29/50\n",
      "391/391 [==============================] - 64s 163ms/step - loss: 0.1960 - accuracy: 0.9299 - val_loss: 1.7075 - val_accuracy: 0.6278\n",
      "Epoch 30/50\n",
      "391/391 [==============================] - 63s 162ms/step - loss: 0.1847 - accuracy: 0.9333 - val_loss: 1.1955 - val_accuracy: 0.6652\n",
      "Epoch 31/50\n",
      "391/391 [==============================] - 64s 163ms/step - loss: 0.1764 - accuracy: 0.9376 - val_loss: 1.6744 - val_accuracy: 0.6426\n",
      "Epoch 32/50\n",
      "391/391 [==============================] - 64s 163ms/step - loss: 0.1787 - accuracy: 0.9351 - val_loss: 1.7960 - val_accuracy: 0.6416\n",
      "Epoch 33/50\n",
      "391/391 [==============================] - 63s 162ms/step - loss: 0.1664 - accuracy: 0.9414 - val_loss: 1.2119 - val_accuracy: 0.7020\n",
      "Epoch 34/50\n",
      "391/391 [==============================] - 64s 163ms/step - loss: 0.1492 - accuracy: 0.9464 - val_loss: 1.4523 - val_accuracy: 0.6938\n",
      "Epoch 35/50\n",
      "391/391 [==============================] - 64s 162ms/step - loss: 0.1491 - accuracy: 0.9488 - val_loss: 1.4296 - val_accuracy: 0.6790\n",
      "Epoch 36/50\n",
      "391/391 [==============================] - 63s 162ms/step - loss: 0.1412 - accuracy: 0.9501 - val_loss: 1.0297 - val_accuracy: 0.7132\n",
      "Epoch 37/50\n",
      "391/391 [==============================] - 64s 163ms/step - loss: 0.1304 - accuracy: 0.9533 - val_loss: 1.0166 - val_accuracy: 0.7220\n",
      "Epoch 38/50\n",
      "391/391 [==============================] - 63s 162ms/step - loss: 0.1333 - accuracy: 0.9544 - val_loss: 1.5614 - val_accuracy: 0.6712\n",
      "Epoch 39/50\n",
      "391/391 [==============================] - 64s 164ms/step - loss: 0.1293 - accuracy: 0.9541 - val_loss: 1.0126 - val_accuracy: 0.7374\n",
      "Epoch 40/50\n",
      "391/391 [==============================] - 64s 163ms/step - loss: 0.1232 - accuracy: 0.9569 - val_loss: 1.3079 - val_accuracy: 0.6850\n",
      "Epoch 41/50\n",
      "391/391 [==============================] - 63s 162ms/step - loss: 0.1198 - accuracy: 0.9589 - val_loss: 1.0612 - val_accuracy: 0.7518\n",
      "Epoch 42/50\n",
      "391/391 [==============================] - 64s 163ms/step - loss: 0.1194 - accuracy: 0.9568 - val_loss: 1.0677 - val_accuracy: 0.7166\n",
      "Epoch 43/50\n",
      "391/391 [==============================] - 64s 163ms/step - loss: 0.1156 - accuracy: 0.9601 - val_loss: 1.3974 - val_accuracy: 0.6724\n",
      "Epoch 44/50\n",
      "391/391 [==============================] - 64s 163ms/step - loss: 0.1110 - accuracy: 0.9625 - val_loss: 1.5560 - val_accuracy: 0.7066\n",
      "Epoch 45/50\n",
      "391/391 [==============================] - 64s 163ms/step - loss: 0.1001 - accuracy: 0.9654 - val_loss: 1.2312 - val_accuracy: 0.7370\n",
      "Epoch 46/50\n",
      "391/391 [==============================] - 65s 165ms/step - loss: 0.1003 - accuracy: 0.9634 - val_loss: 1.5705 - val_accuracy: 0.6940\n",
      "Epoch 47/50\n",
      "391/391 [==============================] - 64s 164ms/step - loss: 0.1052 - accuracy: 0.9644 - val_loss: 0.9886 - val_accuracy: 0.7358\n",
      "Epoch 48/50\n",
      "391/391 [==============================] - 64s 164ms/step - loss: 0.1010 - accuracy: 0.9649 - val_loss: 1.6701 - val_accuracy: 0.7024\n",
      "Epoch 49/50\n",
      "391/391 [==============================] - 64s 165ms/step - loss: 0.0938 - accuracy: 0.9673 - val_loss: 1.1436 - val_accuracy: 0.7384\n",
      "Epoch 50/50\n",
      "391/391 [==============================] - 65s 166ms/step - loss: 0.0924 - accuracy: 0.9670 - val_loss: 1.0869 - val_accuracy: 0.7174\n"
     ]
    },
    {
     "data": {
      "image/png": "[encoded data removed]",
      "text/plain": [
       "<Figure size 504x360 with 1 Axes>"
      ]
     },
     "metadata": {
      "needs_background": "light"
     },
     "output_type": "display_data"
    }
   ],
   "source": [
    "epochs = 50\n",
    "batch_size = 64\n",
    "csv_logger = CSVLogger(path+'log/log.csv', append=True, separator=';')\n",
    "\n",
    "his = model.fit(train_x, \n",
    "            train_y, \n",
    "            epochs=epochs, \n",
    "            batch_size=batch_size, \n",
    "            verbose=1,\n",
    "            validation_data=(test_x, test_y),\n",
    "            callbacks=[csv_logger]\n",
    "            )\n",
    "\n",
    "model.save(path+'model/model'+'.h5')\n",
    "with open(path+'his/his.pkl', 'wb') as fp:\n",
    "    pickle.dump(his.history, fp)\n",
    "    \n",
    "fig, ax = plt.subplots(figsize=(7, 5), sharex=True)\n",
    "plt.plot(his.history[\"accuracy\"])\n",
    "plt.plot(his.history[\"val_accuracy\"])\n",
    "plt.plot(his.history[\"loss\"])\n",
    "plt.plot(his.history['val_loss'])\n",
    "plt.title(\"Model Score\")\n",
    "plt.ylabel(\"Score\")\n",
    "plt.xlabel(\"Epoch\")\n",
    "# ax.xaxis.set_major_locator(plt.MaxNLocator(epochs))\n",
    "plt.legend([\"Train_acc\", \"Test_acc\",\"Train_loss\", \"Test_loss\"], loc=\"upper right\")\n",
    "plt.grid()\n",
    "plt.savefig(path+\"loss/loss\"+\".png\",dpi=1000)\n",
    "plt.show()"
   ]
  },
  {
   "cell_type": "code",
   "execution_count": 18,
   "id": "5edbf3ab",
   "metadata": {
    "scrolled": true
   },
   "outputs": [],
   "source": [
    "result = pd.DataFrame({\"True_value\":data[1]['y']})"
   ]
  },
  {
   "cell_type": "code",
   "execution_count": 19,
   "id": "6b5db041",
   "metadata": {},
   "outputs": [
    {
     "data": {
      "text/plain": [
       "0.7174"
      ]
     },
     "execution_count": 19,
     "metadata": {},
     "output_type": "execute_result"
    }
   ],
   "source": [
    "pred_y = model.predict( test_x )\n",
    "result['model'] = [*pred_y]\n",
    "acc = categorical_accuracy( test_y, pred_y )\n",
    "np.mean(acc)"
   ]
  },
  {
   "cell_type": "code",
   "execution_count": 20,
   "id": "ee323442",
   "metadata": {},
   "outputs": [],
   "source": [
    "result.to_pickle(path+'pre_test_result.pkl')"
   ]
  },
  {
   "cell_type": "code",
   "execution_count": null,
   "id": "e801d87c",
   "metadata": {},
   "outputs": [],
   "source": []
  }
 ],
 "metadata": {
  "kernelspec": {
   "display_name": "Python 3",
   "language": "python",
   "name": "python3"
  },
  "language_info": {
   "codemirror_mode": {
    "name": "ipython",
    "version": 3
   },
   "file_extension": ".py",
   "mimetype": "text/x-python",
   "name": "python",
   "nbconvert_exporter": "python",
   "pygments_lexer": "ipython3",
   "version": "3.9.2"
  },
  "vscode": {
   "interpreter": {
    "hash": "7ae607ce984e01337daa8962aba11d25d326e660ae1d6020f291092ddef46728"
   }
  }
 },
 "nbformat": 4,
 "nbformat_minor": 5
}
