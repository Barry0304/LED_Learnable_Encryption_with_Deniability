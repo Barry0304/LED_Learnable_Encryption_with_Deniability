{
 "cells": [
  {
   "cell_type": "code",
   "execution_count": 1,
   "id": "4bbeac85",
   "metadata": {},
   "outputs": [],
   "source": [
    "import numpy as np\n",
    "import pandas as pd\n",
    "import tensorflow as tf\n",
    "import matplotlib.pyplot as plt\n",
    "from IPython.display import display, Image\n",
    "import pickle"
   ]
  },
  {
   "cell_type": "code",
   "execution_count": 2,
   "id": "d2716fdb",
   "metadata": {},
   "outputs": [],
   "source": [
    "path = 'results/nLE_nLED_cifer10/'"
   ]
  },
  {
   "cell_type": "markdown",
   "id": "d0b19e7b",
   "metadata": {},
   "source": [
    "## load data"
   ]
  },
  {
   "cell_type": "code",
   "execution_count": 3,
   "id": "c18e4a03",
   "metadata": {},
   "outputs": [],
   "source": [
    "(X_train, Y_train), (X_test, Y_test) = tf.keras.datasets.cifar10.load_data()"
   ]
  },
  {
   "cell_type": "code",
   "execution_count": 4,
   "id": "8a735927",
   "metadata": {},
   "outputs": [
    {
     "name": "stdout",
     "output_type": "stream",
     "text": [
      "50000\n",
      "10000\n",
      "(50000, 32, 32, 3)\n"
     ]
    }
   ],
   "source": [
    "print(len(X_train))\n",
    "print(len(X_test))\n",
    "print(X_train.shape)"
   ]
  },
  {
   "cell_type": "code",
   "execution_count": 5,
   "id": "cfacd7ea",
   "metadata": {
    "scrolled": true
   },
   "outputs": [
    {
     "data": {
      "image/png": "[encoded data removed]",
      "text/plain": [
       "<Figure size 432x288 with 1 Axes>"
      ]
     },
     "metadata": {
      "needs_background": "light"
     },
     "output_type": "display_data"
    }
   ],
   "source": [
    "imgplot = plt.imshow(X_train[2])\n",
    "plt.show()"
   ]
  },
  {
   "cell_type": "markdown",
   "id": "417a48ec",
   "metadata": {},
   "source": [
    "## preprocessing/F.E."
   ]
  },
  {
   "cell_type": "markdown",
   "id": "5e3d2e39",
   "metadata": {},
   "source": [
    "## set parameter"
   ]
  },
  {
   "cell_type": "markdown",
   "id": "3c369aec",
   "metadata": {},
   "source": [
    "# imageshuffle"
   ]
  },
  {
   "cell_type": "code",
   "execution_count": 6,
   "id": "95534cc3",
   "metadata": {},
   "outputs": [],
   "source": [
    "train_data = pd.DataFrame({'x':[*X_train],'y':[*Y_train]})\n",
    "test_data = pd.DataFrame({'x':[*X_test],'y':[*Y_test]})\n",
    "# train_data = train_data.loc[train_data['y']<5]\n",
    "# test_data = test_data.loc[test_data['y']<5]\n",
    "data = [train_data,test_data]"
   ]
  },
  {
   "cell_type": "code",
   "execution_count": 7,
   "id": "c08f1007",
   "metadata": {},
   "outputs": [],
   "source": [
    "for d in data:\n",
    "    d['nor_x'] = d['x'].apply(lambda x:x/255)\n",
    "    d['cate_y']=[*tf.keras.utils.to_categorical(d['y'])]"
   ]
  },
  {
   "cell_type": "code",
   "execution_count": 8,
   "id": "57515c92",
   "metadata": {
    "scrolled": true
   },
   "outputs": [
    {
     "data": {
      "text/html": [
       "<div>\n",
       "<style scoped>\n",
       "    .dataframe tbody tr th:only-of-type {\n",
       "        vertical-align: middle;\n",
       "    }\n",
       "\n",
       "    .dataframe tbody tr th {\n",
       "        vertical-align: top;\n",
       "    }\n",
       "\n",
       "    .dataframe thead th {\n",
       "        text-align: right;\n",
       "    }\n",
       "</style>\n",
       "<table border=\"1\" class=\"dataframe\">\n",
       "  <thead>\n",
       "    <tr style=\"text-align: right;\">\n",
       "      <th></th>\n",
       "      <th>x</th>\n",
       "      <th>y</th>\n",
       "      <th>nor_x</th>\n",
       "      <th>cate_y</th>\n",
       "    </tr>\n",
       "  </thead>\n",
       "  <tbody>\n",
       "    <tr>\n",
       "      <th>0</th>\n",
       "      <td>[[[59, 62, 63], [43, 46, 45], [50, 48, 43], [6...</td>\n",
       "      <td>[6]</td>\n",
       "      <td>[[[0.23137254901960785, 0.24313725490196078, 0...</td>\n",
       "      <td>[0.0, 0.0, 0.0, 0.0, 0.0, 0.0, 1.0, 0.0, 0.0, ...</td>\n",
       "    </tr>\n",
       "    <tr>\n",
       "      <th>1</th>\n",
       "      <td>[[[154, 177, 187], [126, 137, 136], [105, 104,...</td>\n",
       "      <td>[9]</td>\n",
       "      <td>[[[0.6039215686274509, 0.6941176470588235, 0.7...</td>\n",
       "      <td>[0.0, 0.0, 0.0, 0.0, 0.0, 0.0, 0.0, 0.0, 0.0, ...</td>\n",
       "    </tr>\n",
       "    <tr>\n",
       "      <th>2</th>\n",
       "      <td>[[[255, 255, 255], [253, 253, 253], [253, 253,...</td>\n",
       "      <td>[9]</td>\n",
       "      <td>[[[1.0, 1.0, 1.0], [0.9921568627450981, 0.9921...</td>\n",
       "      <td>[0.0, 0.0, 0.0, 0.0, 0.0, 0.0, 0.0, 0.0, 0.0, ...</td>\n",
       "    </tr>\n",
       "    <tr>\n",
       "      <th>3</th>\n",
       "      <td>[[[28, 25, 10], [37, 34, 19], [38, 35, 20], [4...</td>\n",
       "      <td>[4]</td>\n",
       "      <td>[[[0.10980392156862745, 0.09803921568627451, 0...</td>\n",
       "      <td>[0.0, 0.0, 0.0, 0.0, 1.0, 0.0, 0.0, 0.0, 0.0, ...</td>\n",
       "    </tr>\n",
       "    <tr>\n",
       "      <th>4</th>\n",
       "      <td>[[[170, 180, 198], [168, 178, 196], [177, 185,...</td>\n",
       "      <td>[1]</td>\n",
       "      <td>[[[0.6666666666666666, 0.7058823529411765, 0.7...</td>\n",
       "      <td>[0.0, 1.0, 0.0, 0.0, 0.0, 0.0, 0.0, 0.0, 0.0, ...</td>\n",
       "    </tr>\n",
       "    <tr>\n",
       "      <th>...</th>\n",
       "      <td>...</td>\n",
       "      <td>...</td>\n",
       "      <td>...</td>\n",
       "      <td>...</td>\n",
       "    </tr>\n",
       "    <tr>\n",
       "      <th>49995</th>\n",
       "      <td>[[[145, 161, 194], [151, 166, 199], [156, 171,...</td>\n",
       "      <td>[2]</td>\n",
       "      <td>[[[0.5686274509803921, 0.6313725490196078, 0.7...</td>\n",
       "      <td>[0.0, 0.0, 1.0, 0.0, 0.0, 0.0, 0.0, 0.0, 0.0, ...</td>\n",
       "    </tr>\n",
       "    <tr>\n",
       "      <th>49996</th>\n",
       "      <td>[[[255, 245, 132], [254, 247, 134], [255, 249,...</td>\n",
       "      <td>[6]</td>\n",
       "      <td>[[[1.0, 0.9607843137254902, 0.5176470588235295...</td>\n",
       "      <td>[0.0, 0.0, 0.0, 0.0, 0.0, 0.0, 1.0, 0.0, 0.0, ...</td>\n",
       "    </tr>\n",
       "    <tr>\n",
       "      <th>49997</th>\n",
       "      <td>[[[35, 178, 235], [40, 176, 239], [42, 176, 24...</td>\n",
       "      <td>[9]</td>\n",
       "      <td>[[[0.13725490196078433, 0.6980392156862745, 0....</td>\n",
       "      <td>[0.0, 0.0, 0.0, 0.0, 0.0, 0.0, 0.0, 0.0, 0.0, ...</td>\n",
       "    </tr>\n",
       "    <tr>\n",
       "      <th>49998</th>\n",
       "      <td>[[[189, 211, 240], [186, 208, 236], [185, 207,...</td>\n",
       "      <td>[1]</td>\n",
       "      <td>[[[0.7411764705882353, 0.8274509803921568, 0.9...</td>\n",
       "      <td>[0.0, 1.0, 0.0, 0.0, 0.0, 0.0, 0.0, 0.0, 0.0, ...</td>\n",
       "    </tr>\n",
       "    <tr>\n",
       "      <th>49999</th>\n",
       "      <td>[[[229, 229, 239], [236, 237, 247], [234, 236,...</td>\n",
       "      <td>[1]</td>\n",
       "      <td>[[[0.8980392156862745, 0.8980392156862745, 0.9...</td>\n",
       "      <td>[0.0, 1.0, 0.0, 0.0, 0.0, 0.0, 0.0, 0.0, 0.0, ...</td>\n",
       "    </tr>\n",
       "  </tbody>\n",
       "</table>\n",
       "<p>50000 rows × 4 columns</p>\n",
       "</div>"
      ],
      "text/plain": [
       "                                                       x    y  \\\n",
       "0      [[[59, 62, 63], [43, 46, 45], [50, 48, 43], [6...  [6]   \n",
       "1      [[[154, 177, 187], [126, 137, 136], [105, 104,...  [9]   \n",
       "2      [[[255, 255, 255], [253, 253, 253], [253, 253,...  [9]   \n",
       "3      [[[28, 25, 10], [37, 34, 19], [38, 35, 20], [4...  [4]   \n",
       "4      [[[170, 180, 198], [168, 178, 196], [177, 185,...  [1]   \n",
       "...                                                  ...  ...   \n",
       "49995  [[[145, 161, 194], [151, 166, 199], [156, 171,...  [2]   \n",
       "49996  [[[255, 245, 132], [254, 247, 134], [255, 249,...  [6]   \n",
       "49997  [[[35, 178, 235], [40, 176, 239], [42, 176, 24...  [9]   \n",
       "49998  [[[189, 211, 240], [186, 208, 236], [185, 207,...  [1]   \n",
       "49999  [[[229, 229, 239], [236, 237, 247], [234, 236,...  [1]   \n",
       "\n",
       "                                                   nor_x  \\\n",
       "0      [[[0.23137254901960785, 0.24313725490196078, 0...   \n",
       "1      [[[0.6039215686274509, 0.6941176470588235, 0.7...   \n",
       "2      [[[1.0, 1.0, 1.0], [0.9921568627450981, 0.9921...   \n",
       "3      [[[0.10980392156862745, 0.09803921568627451, 0...   \n",
       "4      [[[0.6666666666666666, 0.7058823529411765, 0.7...   \n",
       "...                                                  ...   \n",
       "49995  [[[0.5686274509803921, 0.6313725490196078, 0.7...   \n",
       "49996  [[[1.0, 0.9607843137254902, 0.5176470588235295...   \n",
       "49997  [[[0.13725490196078433, 0.6980392156862745, 0....   \n",
       "49998  [[[0.7411764705882353, 0.8274509803921568, 0.9...   \n",
       "49999  [[[0.8980392156862745, 0.8980392156862745, 0.9...   \n",
       "\n",
       "                                                  cate_y  \n",
       "0      [0.0, 0.0, 0.0, 0.0, 0.0, 0.0, 1.0, 0.0, 0.0, ...  \n",
       "1      [0.0, 0.0, 0.0, 0.0, 0.0, 0.0, 0.0, 0.0, 0.0, ...  \n",
       "2      [0.0, 0.0, 0.0, 0.0, 0.0, 0.0, 0.0, 0.0, 0.0, ...  \n",
       "3      [0.0, 0.0, 0.0, 0.0, 1.0, 0.0, 0.0, 0.0, 0.0, ...  \n",
       "4      [0.0, 1.0, 0.0, 0.0, 0.0, 0.0, 0.0, 0.0, 0.0, ...  \n",
       "...                                                  ...  \n",
       "49995  [0.0, 0.0, 1.0, 0.0, 0.0, 0.0, 0.0, 0.0, 0.0, ...  \n",
       "49996  [0.0, 0.0, 0.0, 0.0, 0.0, 0.0, 1.0, 0.0, 0.0, ...  \n",
       "49997  [0.0, 0.0, 0.0, 0.0, 0.0, 0.0, 0.0, 0.0, 0.0, ...  \n",
       "49998  [0.0, 1.0, 0.0, 0.0, 0.0, 0.0, 0.0, 0.0, 0.0, ...  \n",
       "49999  [0.0, 1.0, 0.0, 0.0, 0.0, 0.0, 0.0, 0.0, 0.0, ...  \n",
       "\n",
       "[50000 rows x 4 columns]"
      ]
     },
     "execution_count": 8,
     "metadata": {},
     "output_type": "execute_result"
    }
   ],
   "source": [
    "data[0]"
   ]
  },
  {
   "cell_type": "code",
   "execution_count": 9,
   "id": "447dbaf6",
   "metadata": {},
   "outputs": [],
   "source": [
    "train_x =np.array([[*a]for a in data[0]['nor_x']])\n",
    "train_y =np.array([[*a]for a in data[0]['cate_y']])\n",
    "test_x =np.array([[*a]for a in data[1]['nor_x']])\n",
    "test_y =np.array([[*a]for a in data[1]['cate_y']])"
   ]
  },
  {
   "cell_type": "markdown",
   "id": "374d9d0c",
   "metadata": {},
   "source": [
    "## Training"
   ]
  },
  {
   "cell_type": "code",
   "execution_count": 10,
   "id": "5ba3aaec",
   "metadata": {},
   "outputs": [],
   "source": [
    "from tensorflow.keras.models import Sequential\n",
    "from tensorflow.keras.layers import Dense, Dropout, Activation, Flatten, Conv2D, Input,\\\n",
    "                                    Lambda,MaxPooling2D, GlobalAveragePooling2D,\\\n",
    "                                    Add, Concatenate,BatchNormalization\n",
    "from tensorflow.keras.models import Model\n",
    "\n",
    "from moudule.padding import PaddingReplicate2D\n",
    "from moudule.pixelshuffle import PixelShuffle\n",
    "from moudule.pixelshuffle import PixelShuffle_calc, PixelShuffle_shape\n",
    "\n",
    "from keras.metrics import categorical_accuracy\n",
    "from tensorflow.keras.callbacks import CSVLogger"
   ]
  },
  {
   "cell_type": "code",
   "execution_count": 15,
   "id": "8538705f",
   "metadata": {},
   "outputs": [],
   "source": [
    "def resnet2(input_shape, nb_classes=10):\n",
    "    p1 = PaddingReplicate2D((1,1))\n",
    "    inp = Input(shape=input_shape)\n",
    "    x = inp\n",
    "\n",
    "#     # block0 ####################################################\n",
    "#     x = BatchNormalization() (x)\n",
    "#     x = Conv2D( 4*4*3, (4,4), padding='valid', strides=(4,4), kernel_initializer='he_normal' ) (x)\n",
    "#     x = Activation('relu') (x)\n",
    "#     # 8x8x48\n",
    "    \n",
    "#     x = BatchNormalization() (x)\n",
    "#     x = Conv2D( 4*4*3, (1,1), padding='valid', kernel_initializer='he_normal' ) (x)\n",
    "#     x = Activation('relu') (x)\n",
    "#     # 8x8x48\n",
    "\n",
    "#     x = BatchNormalization() (x)\n",
    "#     x = Conv2D( 4*4*3, (1,1), padding='valid', kernel_initializer='he_normal' ) (x)\n",
    "#     x = Activation('relu') (x)\n",
    "#     # 8x8x48\n",
    "\n",
    "#     x = BatchNormalization() (x)\n",
    "#     x = Conv2D( 4*4*32, (1,1), padding='valid', kernel_initializer='he_normal' ) (x)\n",
    "#     x = PixelShuffle( x, 4 )\n",
    "#     # 32x32x32\n",
    "    \n",
    "    x = Conv2D( 64, (3,3), padding='same', kernel_initializer='he_normal' ) (x)\n",
    "    x = BatchNormalization() (x)\n",
    "    x = Activation('relu') (x)\n",
    "    x = Conv2D( 128, (3,3), padding='same', kernel_initializer='he_normal' ) (x)\n",
    "    x = BatchNormalization() (x)\n",
    "    x = Activation('relu') (x)\n",
    "    x = MaxPooling2D(pool_size=(2, 2)) (x)\n",
    "    x = Conv2D( 128, (3,3), padding='same', kernel_initializer='he_normal' ) (x)\n",
    "    x = BatchNormalization() (x)\n",
    "    x = Activation('relu') (x)\n",
    "    x = Conv2D( 128, (3,3), padding='same', kernel_initializer='he_normal' ) (x)\n",
    "    x = BatchNormalization() (x)\n",
    "    x = Activation('relu') (x)\n",
    "    x = Conv2D(256, (3,3), padding='same', kernel_initializer='he_normal' ) (x)\n",
    "    x = BatchNormalization() (x)\n",
    "    x = Activation('relu') (x)\n",
    "    x = MaxPooling2D(pool_size=(2, 2)) (x)\n",
    "    x = Conv2D( 512, (3,3), padding='same', kernel_initializer='he_normal' ) (x)\n",
    "    x = BatchNormalization() (x)\n",
    "    x = Activation('relu') (x)\n",
    "    x = MaxPooling2D(pool_size=(2, 2)) (x)\n",
    "    x = Conv2D( 512, (3,3), padding='same', kernel_initializer='he_normal' ) (x)\n",
    "    x = BatchNormalization() (x)\n",
    "    x = Activation('relu') (x)\n",
    "    x = Conv2D( 512, (3,3), padding='same', kernel_initializer='he_normal' ) (x)\n",
    "    x = BatchNormalization() (x)\n",
    "    x = Activation('relu') (x)\n",
    "    x = Flatten()(x)\n",
    "    x = Dense(512)(x)\n",
    "    x = Activation('relu') (x)\n",
    "    x = Dropout(0.25) (x)\n",
    "    x = Dense(10)(x)\n",
    "    x = Activation('softmax') (x)\n",
    "    \n",
    "    return Model(inputs=inp, outputs=x)"
   ]
  },
  {
   "cell_type": "code",
   "execution_count": 16,
   "id": "fbcc55ff",
   "metadata": {},
   "outputs": [
    {
     "name": "stdout",
     "output_type": "stream",
     "text": [
      "Model: \"model_1\"\n",
      "_________________________________________________________________\n",
      " Layer (type)                Output Shape              Param #   \n",
      "=================================================================\n",
      " input_2 (InputLayer)        [(None, 32, 32, 3)]       0         \n",
      "                                                                 \n",
      " conv2d_8 (Conv2D)           (None, 32, 32, 64)        1792      \n",
      "                                                                 \n",
      " batch_normalization_8 (Batc  (None, 32, 32, 64)       256       \n",
      " hNormalization)                                                 \n",
      "                                                                 \n",
      " activation_10 (Activation)  (None, 32, 32, 64)        0         \n",
      "                                                                 \n",
      " conv2d_9 (Conv2D)           (None, 32, 32, 128)       73856     \n",
      "                                                                 \n",
      " batch_normalization_9 (Batc  (None, 32, 32, 128)      512       \n",
      " hNormalization)                                                 \n",
      "                                                                 \n",
      " activation_11 (Activation)  (None, 32, 32, 128)       0         \n",
      "                                                                 \n",
      " max_pooling2d_3 (MaxPooling  (None, 16, 16, 128)      0         \n",
      " 2D)                                                             \n",
      "                                                                 \n",
      " conv2d_10 (Conv2D)          (None, 16, 16, 128)       147584    \n",
      "                                                                 \n",
      " batch_normalization_10 (Bat  (None, 16, 16, 128)      512       \n",
      " chNormalization)                                                \n",
      "                                                                 \n",
      " activation_12 (Activation)  (None, 16, 16, 128)       0         \n",
      "                                                                 \n",
      " conv2d_11 (Conv2D)          (None, 16, 16, 128)       147584    \n",
      "                                                                 \n",
      " batch_normalization_11 (Bat  (None, 16, 16, 128)      512       \n",
      " chNormalization)                                                \n",
      "                                                                 \n",
      " activation_13 (Activation)  (None, 16, 16, 128)       0         \n",
      "                                                                 \n",
      " conv2d_12 (Conv2D)          (None, 16, 16, 256)       295168    \n",
      "                                                                 \n",
      " batch_normalization_12 (Bat  (None, 16, 16, 256)      1024      \n",
      " chNormalization)                                                \n",
      "                                                                 \n",
      " activation_14 (Activation)  (None, 16, 16, 256)       0         \n",
      "                                                                 \n",
      " max_pooling2d_4 (MaxPooling  (None, 8, 8, 256)        0         \n",
      " 2D)                                                             \n",
      "                                                                 \n",
      " conv2d_13 (Conv2D)          (None, 8, 8, 512)         1180160   \n",
      "                                                                 \n",
      " batch_normalization_13 (Bat  (None, 8, 8, 512)        2048      \n",
      " chNormalization)                                                \n",
      "                                                                 \n",
      " activation_15 (Activation)  (None, 8, 8, 512)         0         \n",
      "                                                                 \n",
      " max_pooling2d_5 (MaxPooling  (None, 4, 4, 512)        0         \n",
      " 2D)                                                             \n",
      "                                                                 \n",
      " conv2d_14 (Conv2D)          (None, 4, 4, 512)         2359808   \n",
      "                                                                 \n",
      " batch_normalization_14 (Bat  (None, 4, 4, 512)        2048      \n",
      " chNormalization)                                                \n",
      "                                                                 \n",
      " activation_16 (Activation)  (None, 4, 4, 512)         0         \n",
      "                                                                 \n",
      " conv2d_15 (Conv2D)          (None, 4, 4, 512)         2359808   \n",
      "                                                                 \n",
      " batch_normalization_15 (Bat  (None, 4, 4, 512)        2048      \n",
      " chNormalization)                                                \n",
      "                                                                 \n",
      " activation_17 (Activation)  (None, 4, 4, 512)         0         \n",
      "                                                                 \n",
      " flatten_1 (Flatten)         (None, 8192)              0         \n",
      "                                                                 \n",
      " dense_2 (Dense)             (None, 512)               4194816   \n",
      "                                                                 \n",
      " activation_18 (Activation)  (None, 512)               0         \n",
      "                                                                 \n",
      " dropout_1 (Dropout)         (None, 512)               0         \n",
      "                                                                 \n",
      " dense_3 (Dense)             (None, 10)                5130      \n",
      "                                                                 \n",
      " activation_19 (Activation)  (None, 10)                0         \n",
      "                                                                 \n",
      "=================================================================\n",
      "Total params: 10,774,666\n",
      "Trainable params: 10,770,186\n",
      "Non-trainable params: 4,480\n",
      "_________________________________________________________________\n"
     ]
    }
   ],
   "source": [
    "model = resnet2(input_shape=[32,32,3], nb_classes=10)\n",
    "model.compile(optimizer='adam', loss='categorical_crossentropy', metrics=['accuracy'])\n",
    "model.summary()"
   ]
  },
  {
   "cell_type": "code",
   "execution_count": 17,
   "id": "05455b53",
   "metadata": {
    "scrolled": true
   },
   "outputs": [
    {
     "name": "stdout",
     "output_type": "stream",
     "text": [
      "Epoch 1/50\n",
      "782/782 [==============================] - 71s 86ms/step - loss: 1.5794 - accuracy: 0.4386 - val_loss: 1.3038 - val_accuracy: 0.5611\n",
      "Epoch 2/50\n",
      "782/782 [==============================] - 67s 85ms/step - loss: 1.0032 - accuracy: 0.6518 - val_loss: 0.9343 - val_accuracy: 0.6815\n",
      "Epoch 3/50\n",
      "782/782 [==============================] - 68s 87ms/step - loss: 0.7636 - accuracy: 0.7439 - val_loss: 0.8127 - val_accuracy: 0.7213\n",
      "Epoch 4/50\n",
      "782/782 [==============================] - 70s 90ms/step - loss: 0.6235 - accuracy: 0.7936 - val_loss: 0.8926 - val_accuracy: 0.7260\n",
      "Epoch 5/50\n",
      "782/782 [==============================] - 70s 90ms/step - loss: 0.5160 - accuracy: 0.8324 - val_loss: 1.0183 - val_accuracy: 0.6970\n",
      "Epoch 6/50\n",
      "782/782 [==============================] - 71s 90ms/step - loss: 0.4274 - accuracy: 0.8616 - val_loss: 0.6056 - val_accuracy: 0.8071\n",
      "Epoch 7/50\n",
      "782/782 [==============================] - 71s 91ms/step - loss: 0.3488 - accuracy: 0.8858 - val_loss: 0.5738 - val_accuracy: 0.8233\n",
      "Epoch 8/50\n",
      "782/782 [==============================] - 71s 91ms/step - loss: 0.2835 - accuracy: 0.9063 - val_loss: 0.6079 - val_accuracy: 0.8222\n",
      "Epoch 9/50\n",
      "782/782 [==============================] - 72s 92ms/step - loss: 0.2269 - accuracy: 0.9249 - val_loss: 0.5455 - val_accuracy: 0.8355\n",
      "Epoch 10/50\n",
      "782/782 [==============================] - 72s 92ms/step - loss: 0.1832 - accuracy: 0.9399 - val_loss: 0.6042 - val_accuracy: 0.8355\n",
      "Epoch 11/50\n",
      "782/782 [==============================] - 72s 93ms/step - loss: 0.1516 - accuracy: 0.9511 - val_loss: 0.7412 - val_accuracy: 0.8185\n",
      "Epoch 12/50\n",
      "782/782 [==============================] - 72s 93ms/step - loss: 0.1219 - accuracy: 0.9611 - val_loss: 0.6282 - val_accuracy: 0.8523\n",
      "Epoch 13/50\n",
      "782/782 [==============================] - 73s 93ms/step - loss: 0.1020 - accuracy: 0.9673 - val_loss: 0.6913 - val_accuracy: 0.8481\n",
      "Epoch 14/50\n",
      "782/782 [==============================] - 73s 94ms/step - loss: 0.0853 - accuracy: 0.9722 - val_loss: 0.7292 - val_accuracy: 0.8451\n",
      "Epoch 15/50\n",
      "782/782 [==============================] - 73s 93ms/step - loss: 0.0798 - accuracy: 0.9753 - val_loss: 0.7440 - val_accuracy: 0.8352\n",
      "Epoch 16/50\n",
      "782/782 [==============================] - 73s 94ms/step - loss: 0.0651 - accuracy: 0.9791 - val_loss: 0.7925 - val_accuracy: 0.8383\n",
      "Epoch 17/50\n",
      "782/782 [==============================] - 73s 94ms/step - loss: 0.0618 - accuracy: 0.9809 - val_loss: 0.8138 - val_accuracy: 0.8398\n",
      "Epoch 18/50\n",
      "782/782 [==============================] - 73s 94ms/step - loss: 0.0529 - accuracy: 0.9835 - val_loss: 1.0688 - val_accuracy: 0.8163\n",
      "Epoch 19/50\n",
      "782/782 [==============================] - 74s 94ms/step - loss: 0.0536 - accuracy: 0.9836 - val_loss: 0.8326 - val_accuracy: 0.8397\n",
      "Epoch 20/50\n",
      "782/782 [==============================] - 73s 94ms/step - loss: 0.0452 - accuracy: 0.9864 - val_loss: 0.7964 - val_accuracy: 0.8371\n",
      "Epoch 21/50\n",
      "782/782 [==============================] - 74s 94ms/step - loss: 0.0449 - accuracy: 0.9864 - val_loss: 0.8543 - val_accuracy: 0.8498\n",
      "Epoch 22/50\n",
      "782/782 [==============================] - 74s 94ms/step - loss: 0.0418 - accuracy: 0.9873 - val_loss: 0.7228 - val_accuracy: 0.8577\n",
      "Epoch 23/50\n",
      "782/782 [==============================] - 73s 94ms/step - loss: 0.0478 - accuracy: 0.9852 - val_loss: 0.9333 - val_accuracy: 0.8368\n",
      "Epoch 24/50\n",
      "782/782 [==============================] - 74s 94ms/step - loss: 0.0338 - accuracy: 0.9896 - val_loss: 1.0117 - val_accuracy: 0.8350\n",
      "Epoch 25/50\n",
      "782/782 [==============================] - 73s 94ms/step - loss: 0.0370 - accuracy: 0.9886 - val_loss: 0.8257 - val_accuracy: 0.8582\n",
      "Epoch 26/50\n",
      "782/782 [==============================] - 74s 94ms/step - loss: 0.0344 - accuracy: 0.9898 - val_loss: 0.8846 - val_accuracy: 0.8410\n",
      "Epoch 27/50\n",
      "782/782 [==============================] - 75s 95ms/step - loss: 0.0303 - accuracy: 0.9910 - val_loss: 0.7865 - val_accuracy: 0.8581\n",
      "Epoch 28/50\n",
      "782/782 [==============================] - 76s 97ms/step - loss: 0.0336 - accuracy: 0.9898 - val_loss: 0.8421 - val_accuracy: 0.8490\n",
      "Epoch 29/50\n",
      "782/782 [==============================] - 78s 99ms/step - loss: 0.0267 - accuracy: 0.9920 - val_loss: 0.8588 - val_accuracy: 0.8543\n",
      "Epoch 30/50\n",
      "782/782 [==============================] - 78s 99ms/step - loss: 0.0297 - accuracy: 0.9911 - val_loss: 0.9389 - val_accuracy: 0.8497\n",
      "Epoch 31/50\n",
      "782/782 [==============================] - 79s 102ms/step - loss: 0.0292 - accuracy: 0.9918 - val_loss: 0.7743 - val_accuracy: 0.8703\n",
      "Epoch 32/50\n",
      "782/782 [==============================] - 79s 102ms/step - loss: 0.0241 - accuracy: 0.9931 - val_loss: 0.8472 - val_accuracy: 0.8605\n",
      "Epoch 33/50\n",
      "782/782 [==============================] - 80s 102ms/step - loss: 0.0287 - accuracy: 0.9917 - val_loss: 1.1091 - val_accuracy: 0.8388\n",
      "Epoch 34/50\n",
      "782/782 [==============================] - 78s 100ms/step - loss: 0.0248 - accuracy: 0.9931 - val_loss: 1.0061 - val_accuracy: 0.8383\n",
      "Epoch 35/50\n",
      "782/782 [==============================] - 78s 99ms/step - loss: 0.0232 - accuracy: 0.9932 - val_loss: 0.8972 - val_accuracy: 0.8597\n",
      "Epoch 36/50\n",
      "782/782 [==============================] - 78s 100ms/step - loss: 0.0220 - accuracy: 0.9940 - val_loss: 1.1623 - val_accuracy: 0.8175\n",
      "Epoch 37/50\n",
      "782/782 [==============================] - 77s 99ms/step - loss: 0.0251 - accuracy: 0.9923 - val_loss: 1.2124 - val_accuracy: 0.8361\n",
      "Epoch 38/50\n",
      "782/782 [==============================] - 78s 100ms/step - loss: 0.0240 - accuracy: 0.9929 - val_loss: 0.9356 - val_accuracy: 0.8389\n",
      "Epoch 39/50\n",
      "782/782 [==============================] - 78s 100ms/step - loss: 0.0223 - accuracy: 0.9933 - val_loss: 0.8988 - val_accuracy: 0.8536\n",
      "Epoch 40/50\n",
      "782/782 [==============================] - 77s 99ms/step - loss: 0.0217 - accuracy: 0.9937 - val_loss: 0.8545 - val_accuracy: 0.8666\n",
      "Epoch 41/50\n",
      "782/782 [==============================] - 78s 100ms/step - loss: 0.0234 - accuracy: 0.9935 - val_loss: 1.6022 - val_accuracy: 0.7945\n",
      "Epoch 42/50\n",
      "782/782 [==============================] - 78s 100ms/step - loss: 0.0199 - accuracy: 0.9942 - val_loss: 0.8729 - val_accuracy: 0.8586\n",
      "Epoch 43/50\n",
      "782/782 [==============================] - 77s 98ms/step - loss: 0.0167 - accuracy: 0.9956 - val_loss: 1.0617 - val_accuracy: 0.8347\n",
      "Epoch 44/50\n",
      "782/782 [==============================] - 78s 100ms/step - loss: 0.0205 - accuracy: 0.9944 - val_loss: 0.8721 - val_accuracy: 0.8675\n",
      "Epoch 45/50\n",
      "782/782 [==============================] - 78s 99ms/step - loss: 0.0178 - accuracy: 0.9946 - val_loss: 0.9564 - val_accuracy: 0.8441\n",
      "Epoch 46/50\n",
      "782/782 [==============================] - 79s 100ms/step - loss: 0.0213 - accuracy: 0.9941 - val_loss: 1.0066 - val_accuracy: 0.8295\n",
      "Epoch 47/50\n",
      "782/782 [==============================] - 78s 100ms/step - loss: 0.0204 - accuracy: 0.9941 - val_loss: 0.8619 - val_accuracy: 0.8666\n",
      "Epoch 48/50\n",
      "782/782 [==============================] - 77s 99ms/step - loss: 0.0200 - accuracy: 0.9941 - val_loss: 1.1432 - val_accuracy: 0.8506\n",
      "Epoch 49/50\n",
      "782/782 [==============================] - 77s 99ms/step - loss: 0.0167 - accuracy: 0.9952 - val_loss: 1.0819 - val_accuracy: 0.8360\n",
      "Epoch 50/50\n",
      "782/782 [==============================] - 78s 100ms/step - loss: 0.0134 - accuracy: 0.9963 - val_loss: 1.0106 - val_accuracy: 0.8594\n"
     ]
    },
    {
     "data": {
      "image/png": "[encoded data removed]",
      "text/plain": [
       "<Figure size 504x360 with 1 Axes>"
      ]
     },
     "metadata": {
      "needs_background": "light"
     },
     "output_type": "display_data"
    }
   ],
   "source": [
    "epochs = 50\n",
    "batch_size = 64\n",
    "csv_logger = CSVLogger(path+'log/log.csv', append=True, separator=';')\n",
    "\n",
    "his = model.fit(train_x, \n",
    "            train_y, \n",
    "            epochs=epochs, \n",
    "            batch_size=batch_size, \n",
    "            verbose=1,\n",
    "            validation_data=(test_x, test_y),\n",
    "            callbacks=[csv_logger]\n",
    "            )\n",
    "\n",
    "model.save(path+'model/model'+'.h5')\n",
    "with open(path+'his/his.pkl', 'wb') as fp:\n",
    "    pickle.dump(his.history, fp)\n",
    "    \n",
    "fig, ax = plt.subplots(figsize=(7, 5), sharex=True)\n",
    "plt.plot(his.history[\"accuracy\"])\n",
    "plt.plot(his.history[\"val_accuracy\"])\n",
    "plt.plot(his.history[\"loss\"])\n",
    "plt.plot(his.history['val_loss'])\n",
    "plt.title(\"Model Score\")\n",
    "plt.ylabel(\"Score\")\n",
    "plt.xlabel(\"Epoch\")\n",
    "# ax.xaxis.set_major_locator(plt.MaxNLocator(epochs))\n",
    "plt.legend([\"Train_acc\", \"Test_acc\",\"Train_loss\", \"Test_loss\"], loc=\"upper right\")\n",
    "plt.grid()\n",
    "plt.savefig(path+\"loss/loss\"+\".png\",dpi=1000)\n",
    "plt.show()"
   ]
  },
  {
   "cell_type": "code",
   "execution_count": 18,
   "id": "5edbf3ab",
   "metadata": {
    "scrolled": true
   },
   "outputs": [],
   "source": [
    "result = pd.DataFrame({\"True_value\":data[1]['y']})"
   ]
  },
  {
   "cell_type": "code",
   "execution_count": 19,
   "id": "eb110771",
   "metadata": {},
   "outputs": [
    {
     "data": {
      "text/plain": [
       "0.8594"
      ]
     },
     "execution_count": 19,
     "metadata": {},
     "output_type": "execute_result"
    }
   ],
   "source": [
    "pred_y = model.predict( test_x )\n",
    "result['model'] = [*pred_y]\n",
    "acc = categorical_accuracy( test_y, pred_y )\n",
    "np.mean(acc)"
   ]
  },
  {
   "cell_type": "code",
   "execution_count": 20,
   "id": "fd615572",
   "metadata": {},
   "outputs": [],
   "source": [
    "result.to_pickle(path+'pre_test_result.pkl')"
   ]
  },
  {
   "cell_type": "code",
   "execution_count": null,
   "id": "cc960de0",
   "metadata": {},
   "outputs": [],
   "source": []
  }
 ],
 "metadata": {
  "kernelspec": {
   "display_name": "Python 3",
   "language": "python",
   "name": "python3"
  },
  "language_info": {
   "codemirror_mode": {
    "name": "ipython",
    "version": 3
   },
   "file_extension": ".py",
   "mimetype": "text/x-python",
   "name": "python",
   "nbconvert_exporter": "python",
   "pygments_lexer": "ipython3",
   "version": "3.9.2"
  },
  "vscode": {
   "interpreter": {
    "hash": "7ae607ce984e01337daa8962aba11d25d326e660ae1d6020f291092ddef46728"
   }
  }
 },
 "nbformat": 4,
 "nbformat_minor": 5
}
